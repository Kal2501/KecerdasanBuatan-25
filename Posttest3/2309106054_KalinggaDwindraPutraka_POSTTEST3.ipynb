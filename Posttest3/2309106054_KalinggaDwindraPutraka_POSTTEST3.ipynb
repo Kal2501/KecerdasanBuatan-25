{
  "nbformat": 4,
  "nbformat_minor": 0,
  "metadata": {
    "colab": {
      "provenance": []
    },
    "kernelspec": {
      "name": "python3",
      "display_name": "Python 3"
    },
    "language_info": {
      "name": "python"
    }
  },
  "cells": [
    {
      "cell_type": "code",
      "execution_count": 12,
      "metadata": {
        "colab": {
          "base_uri": "https://localhost:8080/"
        },
        "id": "cM8x6c80Fbn3",
        "outputId": "09bad9e9-fd52-4d28-c9f5-713e836a1264"
      },
      "outputs": [
        {
          "output_type": "stream",
          "name": "stdout",
          "text": [
            "Missing value di setiap kolom:\n",
            "laptop_ID           0\n",
            "Company             0\n",
            "Product             0\n",
            "TypeName            0\n",
            "Inches              0\n",
            "ScreenResolution    0\n",
            "Cpu                 0\n",
            "Ram                 0\n",
            "Memory              0\n",
            "Gpu                 0\n",
            "OpSys               0\n",
            "Weight              0\n",
            "Price_euros         0\n",
            "dtype: int64\n"
          ]
        }
      ],
      "source": [
        "import pandas as pd\n",
        "import numpy as np\n",
        "import matplotlib.pyplot as plt\n",
        "from sklearn.preprocessing import MinMaxScaler\n",
        "from sklearn.model_selection import train_test_split\n",
        "from sklearn.preprocessing import OneHotEncoder, LabelEncoder\n",
        "\n",
        "# Load dataset\n",
        "df = pd.read_csv('laptop_price.csv', encoding=\"ISO-8859-1\") # Pakai encoding ISO-8859 soalnya data saya ga bisa di-load pakai UTF-8\n",
        "\n",
        "# Cek missing value\n",
        "print(\"Missing value di setiap kolom:\")\n",
        "miss_value = df.isnull().sum()\n",
        "print(miss_value)\n",
        "# Tidak ada missing value"
      ]
    },
    {
      "cell_type": "code",
      "source": [
        "duplikat = df.duplicated().sum()\n",
        "print(\"Jumlah data duplikat:\",duplikat)"
      ],
      "metadata": {
        "colab": {
          "base_uri": "https://localhost:8080/"
        },
        "id": "wKT2QVZdH4dg",
        "outputId": "9ba976f3-6047-44bd-ea01-557d161a05ce"
      },
      "execution_count": 2,
      "outputs": [
        {
          "output_type": "stream",
          "name": "stdout",
          "text": [
            "Jumlah data duplikat: 0\n"
          ]
        }
      ]
    },
    {
      "cell_type": "code",
      "source": [
        "import seaborn as sns\n",
        "from scipy import stats\n",
        "\n",
        "# Visualisasi sebelum handling outlier\n",
        "fig, axes = plt.subplots(1, 2, figsize=(10, 5))\n",
        "plt.tight_layout(pad=3.0)\n",
        "\n",
        "# Sebelum\n",
        "sns.boxplot(df['Price_euros'], orient='v', ax=axes[0])\n",
        "axes[0].set_title(\"Sebelum\")\n",
        "\n",
        "# Menangani outlier dengan IQR\n",
        "Q1 = df['Price_euros'].quantile(0.25)\n",
        "Q3 = df['Price_euros'].quantile(0.75)\n",
        "IQR = Q3 - Q1  # Perhitungan IQR yang benar\n",
        "\n",
        "# Hapus outlier\n",
        "df = df[~((df['Price_euros'] < (Q1 - 1.5 * IQR)) |\n",
        "         (df['Price_euros'] > (Q3 + 1.5 * IQR)))]\n",
        "\n",
        "# Visualisasi setelah handling outlier\n",
        "sns.boxplot(df['Price_euros'], orient='v', ax=axes[1])\n",
        "axes[1].set_title(\"Sesudah\")\n",
        "plt.show()\n",
        "\n",
        "print(f\"Jumlah data sebelum: {len(pd.read_csv('laptop_price.csv', encoding=\"ISO-8859-1\"))}\")\n",
        "print(f\"Jumlah data setelah: {len(df)}\")"
      ],
      "metadata": {
        "colab": {
          "base_uri": "https://localhost:8080/",
          "height": 486
        },
        "id": "BUfqJlWgKxnu",
        "outputId": "e8be0659-42e4-4b35-f2cd-255ca25b87dd"
      },
      "execution_count": 5,
      "outputs": [
        {
          "output_type": "display_data",
          "data": {
            "text/plain": [
              "<Figure size 1000x500 with 2 Axes>"
            ],
            "image/png": "[encoded data removed]"
          },
          "metadata": {}
        },
        {
          "output_type": "stream",
          "name": "stdout",
          "text": [
            "Jumlah data sebelum: 1303\n",
            "Jumlah data setelah: 1256\n"
          ]
        }
      ]
    },
    {
      "cell_type": "code",
      "source": [
        "# Ambil data numerik\n",
        "data_numerik = ['Inches', 'Price_euros']\n",
        "\n",
        "# Inisialisasi Scaler\n",
        "scaler = MinMaxScaler()\n",
        "\n",
        "# Proses Normalisasi\n",
        "normalisasi = df.copy()\n",
        "normalisasi[data_numerik] = scaler.fit_transform(normalisasi[data_numerik])\n",
        "\n",
        "# Menampilkan hasil normalisasi\n",
        "print(\"\\nNormalized data sample:\")\n",
        "print(normalisasi.head())"
      ],
      "metadata": {
        "colab": {
          "base_uri": "https://localhost:8080/"
        },
        "id": "QFbrqTAuONFP",
        "outputId": "7a10fbb2-d6b9-4da1-b6ae-9b4c707ce68a"
      },
      "execution_count": 9,
      "outputs": [
        {
          "output_type": "stream",
          "name": "stdout",
          "text": [
            "\n",
            "Normalized data sample:\n",
            "   laptop_ID Company      Product   TypeName    Inches  \\\n",
            "0          1   Apple  MacBook Pro  Ultrabook  0.444444   \n",
            "1          2   Apple  Macbook Air  Ultrabook  0.444444   \n",
            "2          3      HP       250 G6   Notebook  0.763889   \n",
            "3          4   Apple  MacBook Pro  Ultrabook  0.736111   \n",
            "4          5   Apple  MacBook Pro  Ultrabook  0.444444   \n",
            "\n",
            "                     ScreenResolution                         Cpu   Ram  \\\n",
            "0  IPS Panel Retina Display 2560x1600        Intel Core i5 2.3GHz   8GB   \n",
            "1                            1440x900        Intel Core i5 1.8GHz   8GB   \n",
            "2                   Full HD 1920x1080  Intel Core i5 7200U 2.5GHz   8GB   \n",
            "3  IPS Panel Retina Display 2880x1800        Intel Core i7 2.7GHz  16GB   \n",
            "4  IPS Panel Retina Display 2560x1600        Intel Core i5 3.1GHz   8GB   \n",
            "\n",
            "                Memory                           Gpu  OpSys  Weight  \\\n",
            "0            128GB SSD  Intel Iris Plus Graphics 640  macOS  1.37kg   \n",
            "1  128GB Flash Storage        Intel HD Graphics 6000  macOS  1.34kg   \n",
            "2            256GB SSD         Intel HD Graphics 620  No OS  1.86kg   \n",
            "3            512GB SSD            AMD Radeon Pro 455  macOS  1.83kg   \n",
            "4            256GB SSD  Intel Iris Plus Graphics 650  macOS  1.37kg   \n",
            "\n",
            "   Price_euros  \n",
            "0     0.480697  \n",
            "1     0.298944  \n",
            "2     0.165361  \n",
            "3     0.974619  \n",
            "4     0.672000  \n"
          ]
        }
      ]
    },
    {
      "cell_type": "code",
      "source": [
        "# Ambil kolom kategorikal\n",
        "kolom_kategorikal = ['Company', 'TypeName', 'OpSys']\n",
        "\n",
        "# Inisialisasi OneHotEncoder dengan sparse_output=False\n",
        "encoder = OneHotEncoder(sparse_output=False)\n",
        "\n",
        "# Fit dan transform data kategorikal\n",
        "encoded_data = encoder.fit_transform(df[kolom_kategorikal])\n",
        "\n",
        "# Ubah hasil transformasi menjadi data frame\n",
        "encoded_df = pd.DataFrame(encoded_data, columns=encoder.get_feature_names_out(kolom_kategorikal))\n",
        "\n",
        "# Gabungkan data frame hasil encoding dengan data frame asli\n",
        "df_encoded = pd.concat([df, encoded_df], axis=1)\n",
        "\n",
        "# Hapus kolom kategorikal asli\n",
        "df_encoded = df_encoded.drop(kolom_kategorikal, axis=1)\n",
        "\n",
        "print(\"Shape setelah encoding:\", df_encoded.shape)\n",
        "print(\"\\nSample data setelah encoding:\")\n",
        "print(df_encoded.head())"
      ],
      "metadata": {
        "colab": {
          "base_uri": "https://localhost:8080/"
        },
        "id": "IZYJyJ6KyKGz",
        "outputId": "f90b47cd-b072-426f-94e2-a17f3d6cba96"
      },
      "execution_count": 15,
      "outputs": [
        {
          "output_type": "stream",
          "name": "stdout",
          "text": [
            "Shape setelah encoding: (1303, 44)\n",
            "\n",
            "Sample data setelah encoding:\n",
            "   laptop_ID      Product  Inches                    ScreenResolution  \\\n",
            "0          1  MacBook Pro    13.3  IPS Panel Retina Display 2560x1600   \n",
            "1          2  Macbook Air    13.3                            1440x900   \n",
            "2          3       250 G6    15.6                   Full HD 1920x1080   \n",
            "3          4  MacBook Pro    15.4  IPS Panel Retina Display 2880x1800   \n",
            "4          5  MacBook Pro    13.3  IPS Panel Retina Display 2560x1600   \n",
            "\n",
            "                          Cpu   Ram               Memory  \\\n",
            "0        Intel Core i5 2.3GHz   8GB            128GB SSD   \n",
            "1        Intel Core i5 1.8GHz   8GB  128GB Flash Storage   \n",
            "2  Intel Core i5 7200U 2.5GHz   8GB            256GB SSD   \n",
            "3        Intel Core i7 2.7GHz  16GB            512GB SSD   \n",
            "4        Intel Core i5 3.1GHz   8GB            256GB SSD   \n",
            "\n",
            "                            Gpu  Weight  Price_euros  ...  \\\n",
            "0  Intel Iris Plus Graphics 640  1.37kg      1339.69  ...   \n",
            "1        Intel HD Graphics 6000  1.34kg       898.94  ...   \n",
            "2         Intel HD Graphics 620  1.86kg       575.00  ...   \n",
            "3            AMD Radeon Pro 455  1.83kg      2537.45  ...   \n",
            "4  Intel Iris Plus Graphics 650  1.37kg      1803.60  ...   \n",
            "\n",
            "   TypeName_Workstation  OpSys_Android  OpSys_Chrome OS  OpSys_Linux  \\\n",
            "0                   0.0            0.0              0.0          0.0   \n",
            "1                   0.0            0.0              0.0          0.0   \n",
            "2                   0.0            0.0              0.0          0.0   \n",
            "3                   0.0            0.0              0.0          0.0   \n",
            "4                   0.0            0.0              0.0          0.0   \n",
            "\n",
            "   OpSys_Mac OS X  OpSys_No OS  OpSys_Windows 10  OpSys_Windows 10 S  \\\n",
            "0             0.0          0.0               0.0                 0.0   \n",
            "1             0.0          0.0               0.0                 0.0   \n",
            "2             0.0          1.0               0.0                 0.0   \n",
            "3             0.0          0.0               0.0                 0.0   \n",
            "4             0.0          0.0               0.0                 0.0   \n",
            "\n",
            "   OpSys_Windows 7  OpSys_macOS  \n",
            "0              0.0          1.0  \n",
            "1              0.0          1.0  \n",
            "2              0.0          0.0  \n",
            "3              0.0          1.0  \n",
            "4              0.0          1.0  \n",
            "\n",
            "[5 rows x 44 columns]\n"
          ]
        }
      ]
    },
    {
      "cell_type": "code",
      "source": [
        "# Membuat kategori berdasarkan harga laptop\n",
        "# batas harga\n",
        "price_bins = [0, 600, 1200, 2000, 3000, np.inf]\n",
        "# nama kategori\n",
        "label_price = ['Budget', 'Mid-range', 'Premium', 'High-end', 'Ultra-premium']\n",
        "\n",
        "# Membuat kolom baru dengan kategori harga\n",
        "df['Price_Category'] = pd.cut(df['Price_euros'], bins=price_bins, labels=label_price)\n",
        "\n",
        "# Membuat kategori berdasarkan ukuran layar\n",
        "# batas ukuran layar\n",
        "size_bins = [0, 13, 14, 16, 18, np.inf]\n",
        "# nama kategori\n",
        "label_size = ['Small', 'Medium', 'Large', 'Extra-large', 'Gaming']\n",
        "\n",
        "# Membuat kolom baru dengan kategori ukuran layar\n",
        "df['Size_Category'] = pd.cut(df['Inches'], bins=size_bins, labels=label_size)\n",
        "\n",
        "# Membuat kategori berdasarkan RAM\n",
        "# batas RAM\n",
        "ram_bins = [0, 4, 8, 16, 32, np.inf]\n",
        "# nama kategori\n",
        "label_ram = ['Low', 'Standard', 'High', 'Very High', 'Extreme']\n",
        "\n",
        "# Percabangan buat ambil numeriknya (karena ada GB)\n",
        "if df['Ram'].dtype == 'object':\n",
        "    # Gunakan raw string untuk regex pattern\n",
        "    df['Ram'] = df['Ram'].str.extract(r'(\\d+)').astype(float)\n",
        "    print(\"Kolom 'Ram' telah dikonversi dari string ke numerik\")\n",
        "\n",
        "# Hapus baris dengan NaN jika ada\n",
        "df = df.dropna(subset=['Ram'])\n",
        "\n",
        "# Membuat kolom baru dengan kategori RAM\n",
        "df['Ram_Category'] = pd.cut(df['Ram'], bins=ram_bins, labels=label_ram)\n",
        "\n",
        "print(\"Data setelah feature engineering:\")\n",
        "print(df[['Price_euros', 'Price_Category', 'Inches', 'Size_Category', 'Ram', 'Ram_Category']].head())\n",
        "\n",
        "print(\"\\nJumlah laptop per kategori harga:\")\n",
        "print(df['Price_Category'].value_counts())\n",
        "\n",
        "print(\"\\nJumlah laptop per kategori ukuran layar:\")\n",
        "print(df['Size_Category'].value_counts())\n",
        "\n",
        "print(\"\\nJumlah laptop per kategori RAM:\")\n",
        "print(df['Ram_Category'].value_counts())"
      ],
      "metadata": {
        "colab": {
          "base_uri": "https://localhost:8080/"
        },
        "id": "FlymFmgD0Y7l",
        "outputId": "38908c00-8efe-48b8-eba0-8d6deda0f2ec"
      },
      "execution_count": 21,
      "outputs": [
        {
          "output_type": "stream",
          "name": "stdout",
          "text": [
            "Data setelah feature engineering:\n",
            "   Price_euros Price_Category  Inches Size_Category   Ram Ram_Category\n",
            "0      1339.69        Premium    13.3        Medium   8.0     Standard\n",
            "1       898.94      Mid-range    13.3        Medium   8.0     Standard\n",
            "2       575.00         Budget    15.6         Large   8.0     Standard\n",
            "3      2537.45       High-end    15.4         Large  16.0         High\n",
            "4      1803.60        Premium    13.3        Medium   8.0     Standard\n",
            "\n",
            "Jumlah laptop per kategori harga:\n",
            "Price_Category\n",
            "Mid-range        510\n",
            "Budget           330\n",
            "Premium          326\n",
            "High-end         118\n",
            "Ultra-premium     19\n",
            "Name: count, dtype: int64\n",
            "\n",
            "Jumlah laptop per kategori ukuran layar:\n",
            "Size_Category\n",
            "Large          674\n",
            "Medium         373\n",
            "Extra-large    165\n",
            "Small           90\n",
            "Gaming           1\n",
            "Name: count, dtype: int64\n",
            "\n",
            "Jumlah laptop per kategori RAM:\n",
            "Ram_Category\n",
            "Standard     660\n",
            "Low          397\n",
            "High         225\n",
            "Very High     20\n",
            "Extreme        1\n",
            "Name: count, dtype: int64\n"
          ]
        }
      ]
    },
    {
      "cell_type": "code",
      "source": [
        "X = df_encoded.drop(['laptop_ID', 'Product', 'ScreenResolution', 'Cpu', 'Memory', 'Gpu', 'Price_euros'], axis=1)\n",
        "y = df['Price_euros']  # Pakai harga asli bukan hasil normalisasi\n",
        "\n",
        "# Proses split\n",
        "X_train, X_test, y_train, y_test = train_test_split(X, y, test_size=0.2, random_state=42)\n",
        "\n",
        "print(\"\\nData splitting results:\")\n",
        "print(f\"Training set size: {X_train.shape[0]} samples\")\n",
        "print(f\"Testing set size: {X_test.shape[0]} samples\")\n",
        "print(f\"Training features shape: {X_train.shape}\")\n",
        "print(f\"Testing features shape: {X_test.shape}\")"
      ],
      "metadata": {
        "colab": {
          "base_uri": "https://localhost:8080/"
        },
        "id": "T_sJGKYm_vma",
        "outputId": "4a815405-75d3-42fe-dc47-947a80298b39"
      },
      "execution_count": 22,
      "outputs": [
        {
          "output_type": "stream",
          "name": "stdout",
          "text": [
            "\n",
            "Data splitting results:\n",
            "Training set size: 1042 samples\n",
            "Testing set size: 261 samples\n",
            "Training features shape: (1042, 37)\n",
            "Testing features shape: (261, 37)\n"
          ]
        }
      ]
    }
  ]
}
{
  "nbformat": 4,
  "nbformat_minor": 0,
  "metadata": {
    "colab": {
      "provenance": []
    },
    "kernelspec": {
      "name": "python3",
      "display_name": "Python 3"
    },
    "language_info": {
      "name": "python"
    }
  },
  "cells": [
    {
      "cell_type": "code",
      "execution_count": 2,
      "metadata": {
        "id": "g7RjAxlvSc7S"
      },
      "outputs": [],
      "source": [
        "import pandas as pd\n",
        "import numpy as np\n",
        "import tensorflow as tf\n",
        "from tensorflow.keras.models import Sequential\n",
        "from tensorflow.keras.layers import Dense\n",
        "from sklearn.model_selection import train_test_split\n",
        "from sklearn.preprocessing import StandardScaler, LabelEncoder"
      ]
    },
    {
      "cell_type": "code",
      "source": [
        "# Load Dataset\n",
        "df = pd.read_csv(\"laptop_price.csv\", encoding=\"latin1\")\n",
        "print(df.head())"
      ],
      "metadata": {
        "colab": {
          "base_uri": "https://localhost:8080/"
        },
        "id": "o7x_ES29VB92",
        "outputId": "41ca0a1b-2bca-4b04-e269-799866b56bbb"
      },
      "execution_count": 3,
      "outputs": [
        {
          "output_type": "stream",
          "name": "stdout",
          "text": [
            "   laptop_ID Company      Product   TypeName  Inches  \\\n",
            "0          1   Apple  MacBook Pro  Ultrabook    13.3   \n",
            "1          2   Apple  Macbook Air  Ultrabook    13.3   \n",
            "2          3      HP       250 G6   Notebook    15.6   \n",
            "3          4   Apple  MacBook Pro  Ultrabook    15.4   \n",
            "4          5   Apple  MacBook Pro  Ultrabook    13.3   \n",
            "\n",
            "                     ScreenResolution                         Cpu   Ram  \\\n",
            "0  IPS Panel Retina Display 2560x1600        Intel Core i5 2.3GHz   8GB   \n",
            "1                            1440x900        Intel Core i5 1.8GHz   8GB   \n",
            "2                   Full HD 1920x1080  Intel Core i5 7200U 2.5GHz   8GB   \n",
            "3  IPS Panel Retina Display 2880x1800        Intel Core i7 2.7GHz  16GB   \n",
            "4  IPS Panel Retina Display 2560x1600        Intel Core i5 3.1GHz   8GB   \n",
            "\n",
            "                Memory                           Gpu  OpSys  Weight  \\\n",
            "0            128GB SSD  Intel Iris Plus Graphics 640  macOS  1.37kg   \n",
            "1  128GB Flash Storage        Intel HD Graphics 6000  macOS  1.34kg   \n",
            "2            256GB SSD         Intel HD Graphics 620  No OS  1.86kg   \n",
            "3            512GB SSD            AMD Radeon Pro 455  macOS  1.83kg   \n",
            "4            256GB SSD  Intel Iris Plus Graphics 650  macOS  1.37kg   \n",
            "\n",
            "   Price_euros  \n",
            "0      1339.69  \n",
            "1       898.94  \n",
            "2       575.00  \n",
            "3      2537.45  \n",
            "4      1803.60  \n"
          ]
        }
      ]
    },
    {
      "cell_type": "code",
      "source": [
        "# Targetnya price\n",
        "target_col = 'Price_euros'\n",
        "\n",
        "# Binning targetnya biar jadi kategorikal\n",
        "bins = [0, 30000, 50000, np.inf]\n",
        "labels = [\"Entry-level\", \"Mid-range\", \"High-end\"]\n",
        "df[\"Price_Class\"] = pd.cut(df[target_col], bins=bins, labels=labels)\n",
        "\n",
        "# Pisahkan fitur dan target\n",
        "X = df.drop(columns=[target_col, \"Price_Class\"])\n",
        "y = df[\"Price_Class\"]"
      ],
      "metadata": {
        "id": "nITvhJWiVEsp"
      },
      "execution_count": 4,
      "outputs": []
    },
    {
      "cell_type": "code",
      "source": [
        "# Label Encoding untuk kolom kategorikal\n",
        "for col in X.select_dtypes(include=['object']).columns:\n",
        "    le = LabelEncoder()\n",
        "    X[col] = le.fit_transform(X[col])\n",
        "\n",
        "# Normalisasi fitur numerik\n",
        "scaler = StandardScaler()\n",
        "X = scaler.fit_transform(X)\n",
        "\n",
        "# Encode target\n",
        "le_y = LabelEncoder()\n",
        "y = le_y.fit_transform(y)  # Entry-level=0, Mid-range=1, High-end=2"
      ],
      "metadata": {
        "id": "6dVCf_3-VIyX"
      },
      "execution_count": 5,
      "outputs": []
    },
    {
      "cell_type": "code",
      "source": [
        "# Split data ke data train dan data test\n",
        "X_train, X_test, y_train, y_test = train_test_split(\n",
        "    X, y, test_size=0.2, random_state=42, stratify=y\n",
        ")"
      ],
      "metadata": {
        "id": "tKdNzXKwVLcU"
      },
      "execution_count": 6,
      "outputs": []
    },
    {
      "cell_type": "code",
      "source": [
        "# Buat tiga model sequantial dengan fungsi aktivasi ReLU dan softmax untuk output layernya\n",
        "model = Sequential([\n",
        "    Dense(128, activation='relu', input_shape=(X.shape[1],)),\n",
        "    Dense(64, activation='relu'),\n",
        "    Dense(3, activation='softmax') # 3 Neuron untuk output layer karena ada 3 kelas\n",
        "])"
      ],
      "metadata": {
        "id": "w31Q7_-zVNoC"
      },
      "execution_count": 16,
      "outputs": []
    },
    {
      "cell_type": "code",
      "source": [
        "# Compile\n",
        "model.compile(optimizer='adam',\n",
        "              loss='sparse_categorical_crossentropy',\n",
        "              metrics=['accuracy'])"
      ],
      "metadata": {
        "id": "8iyrSRtpVPBL"
      },
      "execution_count": 17,
      "outputs": []
    },
    {
      "cell_type": "code",
      "source": [
        "# Training\n",
        "history = model.fit(\n",
        "    X_train, y_train,\n",
        "    validation_data=(X_test, y_test),\n",
        "    epochs=30,\n",
        "    batch_size=32,\n",
        "    verbose=1\n",
        ")"
      ],
      "metadata": {
        "colab": {
          "base_uri": "https://localhost:8080/"
        },
        "id": "9lRaUHxEVQ9A",
        "outputId": "e4acf94c-17c2-4e7a-c170-2e77ede34e7d"
      },
      "execution_count": 15,
      "outputs": [
        {
          "output_type": "stream",
          "name": "stdout",
          "text": [
            "Epoch 1/30\n",
            "\u001b[1m33/33\u001b[0m \u001b[32m━━━━━━━━━━━━━━━━━━━━\u001b[0m\u001b[37m\u001b[0m \u001b[1m0s\u001b[0m 9ms/step - accuracy: 1.0000 - loss: 5.5980e-05 - val_accuracy: 1.0000 - val_loss: 4.2345e-05\n",
            "Epoch 2/30\n",
            "\u001b[1m33/33\u001b[0m \u001b[32m━━━━━━━━━━━━━━━━━━━━\u001b[0m\u001b[37m\u001b[0m \u001b[1m0s\u001b[0m 4ms/step - accuracy: 1.0000 - loss: 5.5355e-05 - val_accuracy: 1.0000 - val_loss: 3.9841e-05\n",
            "Epoch 3/30\n",
            "\u001b[1m33/33\u001b[0m \u001b[32m━━━━━━━━━━━━━━━━━━━━\u001b[0m\u001b[37m\u001b[0m \u001b[1m0s\u001b[0m 4ms/step - accuracy: 1.0000 - loss: 4.9345e-05 - val_accuracy: 1.0000 - val_loss: 3.7661e-05\n",
            "Epoch 4/30\n",
            "\u001b[1m33/33\u001b[0m \u001b[32m━━━━━━━━━━━━━━━━━━━━\u001b[0m\u001b[37m\u001b[0m \u001b[1m0s\u001b[0m 4ms/step - accuracy: 1.0000 - loss: 4.9733e-05 - val_accuracy: 1.0000 - val_loss: 3.5517e-05\n",
            "Epoch 5/30\n",
            "\u001b[1m33/33\u001b[0m \u001b[32m━━━━━━━━━━━━━━━━━━━━\u001b[0m\u001b[37m\u001b[0m \u001b[1m0s\u001b[0m 4ms/step - accuracy: 1.0000 - loss: 3.8168e-05 - val_accuracy: 1.0000 - val_loss: 3.3657e-05\n",
            "Epoch 6/30\n",
            "\u001b[1m33/33\u001b[0m \u001b[32m━━━━━━━━━━━━━━━━━━━━\u001b[0m\u001b[37m\u001b[0m \u001b[1m0s\u001b[0m 4ms/step - accuracy: 1.0000 - loss: 3.7990e-05 - val_accuracy: 1.0000 - val_loss: 3.1891e-05\n",
            "Epoch 7/30\n",
            "\u001b[1m33/33\u001b[0m \u001b[32m━━━━━━━━━━━━━━━━━━━━\u001b[0m\u001b[37m\u001b[0m \u001b[1m0s\u001b[0m 4ms/step - accuracy: 1.0000 - loss: 4.4492e-05 - val_accuracy: 1.0000 - val_loss: 3.0169e-05\n",
            "Epoch 8/30\n",
            "\u001b[1m33/33\u001b[0m \u001b[32m━━━━━━━━━━━━━━━━━━━━\u001b[0m\u001b[37m\u001b[0m \u001b[1m0s\u001b[0m 4ms/step - accuracy: 1.0000 - loss: 3.4826e-05 - val_accuracy: 1.0000 - val_loss: 2.8720e-05\n",
            "Epoch 9/30\n",
            "\u001b[1m33/33\u001b[0m \u001b[32m━━━━━━━━━━━━━━━━━━━━\u001b[0m\u001b[37m\u001b[0m \u001b[1m0s\u001b[0m 9ms/step - accuracy: 1.0000 - loss: 3.4156e-05 - val_accuracy: 1.0000 - val_loss: 2.7228e-05\n",
            "Epoch 10/30\n",
            "\u001b[1m33/33\u001b[0m \u001b[32m━━━━━━━━━━━━━━━━━━━━\u001b[0m\u001b[37m\u001b[0m \u001b[1m1s\u001b[0m 11ms/step - accuracy: 1.0000 - loss: 4.1114e-05 - val_accuracy: 1.0000 - val_loss: 2.5845e-05\n",
            "Epoch 11/30\n",
            "\u001b[1m33/33\u001b[0m \u001b[32m━━━━━━━━━━━━━━━━━━━━\u001b[0m\u001b[37m\u001b[0m \u001b[1m1s\u001b[0m 8ms/step - accuracy: 1.0000 - loss: 2.9901e-05 - val_accuracy: 1.0000 - val_loss: 2.4642e-05\n",
            "Epoch 12/30\n",
            "\u001b[1m33/33\u001b[0m \u001b[32m━━━━━━━━━━━━━━━━━━━━\u001b[0m\u001b[37m\u001b[0m \u001b[1m0s\u001b[0m 12ms/step - accuracy: 1.0000 - loss: 2.9820e-05 - val_accuracy: 1.0000 - val_loss: 2.3454e-05\n",
            "Epoch 13/30\n",
            "\u001b[1m33/33\u001b[0m \u001b[32m━━━━━━━━━━━━━━━━━━━━\u001b[0m\u001b[37m\u001b[0m \u001b[1m0s\u001b[0m 4ms/step - accuracy: 1.0000 - loss: 2.8821e-05 - val_accuracy: 1.0000 - val_loss: 2.2362e-05\n",
            "Epoch 14/30\n",
            "\u001b[1m33/33\u001b[0m \u001b[32m━━━━━━━━━━━━━━━━━━━━\u001b[0m\u001b[37m\u001b[0m \u001b[1m0s\u001b[0m 7ms/step - accuracy: 1.0000 - loss: 2.6170e-05 - val_accuracy: 1.0000 - val_loss: 2.1420e-05\n",
            "Epoch 15/30\n",
            "\u001b[1m33/33\u001b[0m \u001b[32m━━━━━━━━━━━━━━━━━━━━\u001b[0m\u001b[37m\u001b[0m \u001b[1m0s\u001b[0m 6ms/step - accuracy: 1.0000 - loss: 3.1819e-05 - val_accuracy: 1.0000 - val_loss: 2.0413e-05\n",
            "Epoch 16/30\n",
            "\u001b[1m33/33\u001b[0m \u001b[32m━━━━━━━━━━━━━━━━━━━━\u001b[0m\u001b[37m\u001b[0m \u001b[1m0s\u001b[0m 6ms/step - accuracy: 1.0000 - loss: 2.2834e-05 - val_accuracy: 1.0000 - val_loss: 1.9546e-05\n",
            "Epoch 17/30\n",
            "\u001b[1m33/33\u001b[0m \u001b[32m━━━━━━━━━━━━━━━━━━━━\u001b[0m\u001b[37m\u001b[0m \u001b[1m0s\u001b[0m 6ms/step - accuracy: 1.0000 - loss: 2.6246e-05 - val_accuracy: 1.0000 - val_loss: 1.8665e-05\n",
            "Epoch 18/30\n",
            "\u001b[1m33/33\u001b[0m \u001b[32m━━━━━━━━━━━━━━━━━━━━\u001b[0m\u001b[37m\u001b[0m \u001b[1m0s\u001b[0m 7ms/step - accuracy: 1.0000 - loss: 2.6087e-05 - val_accuracy: 1.0000 - val_loss: 1.7878e-05\n",
            "Epoch 19/30\n",
            "\u001b[1m33/33\u001b[0m \u001b[32m━━━━━━━━━━━━━━━━━━━━\u001b[0m\u001b[37m\u001b[0m \u001b[1m0s\u001b[0m 7ms/step - accuracy: 1.0000 - loss: 2.1208e-05 - val_accuracy: 1.0000 - val_loss: 1.7132e-05\n",
            "Epoch 20/30\n",
            "\u001b[1m33/33\u001b[0m \u001b[32m━━━━━━━━━━━━━━━━━━━━\u001b[0m\u001b[37m\u001b[0m \u001b[1m0s\u001b[0m 8ms/step - accuracy: 1.0000 - loss: 1.8542e-05 - val_accuracy: 1.0000 - val_loss: 1.6445e-05\n",
            "Epoch 21/30\n",
            "\u001b[1m33/33\u001b[0m \u001b[32m━━━━━━━━━━━━━━━━━━━━\u001b[0m\u001b[37m\u001b[0m \u001b[1m0s\u001b[0m 7ms/step - accuracy: 1.0000 - loss: 2.1606e-05 - val_accuracy: 1.0000 - val_loss: 1.5734e-05\n",
            "Epoch 22/30\n",
            "\u001b[1m33/33\u001b[0m \u001b[32m━━━━━━━━━━━━━━━━━━━━\u001b[0m\u001b[37m\u001b[0m \u001b[1m0s\u001b[0m 4ms/step - accuracy: 1.0000 - loss: 2.6721e-05 - val_accuracy: 1.0000 - val_loss: 1.5103e-05\n",
            "Epoch 23/30\n",
            "\u001b[1m33/33\u001b[0m \u001b[32m━━━━━━━━━━━━━━━━━━━━\u001b[0m\u001b[37m\u001b[0m \u001b[1m0s\u001b[0m 5ms/step - accuracy: 1.0000 - loss: 1.7944e-05 - val_accuracy: 1.0000 - val_loss: 1.4511e-05\n",
            "Epoch 24/30\n",
            "\u001b[1m33/33\u001b[0m \u001b[32m━━━━━━━━━━━━━━━━━━━━\u001b[0m\u001b[37m\u001b[0m \u001b[1m0s\u001b[0m 5ms/step - accuracy: 1.0000 - loss: 2.1953e-05 - val_accuracy: 1.0000 - val_loss: 1.3930e-05\n",
            "Epoch 25/30\n",
            "\u001b[1m33/33\u001b[0m \u001b[32m━━━━━━━━━━━━━━━━━━━━\u001b[0m\u001b[37m\u001b[0m \u001b[1m0s\u001b[0m 5ms/step - accuracy: 1.0000 - loss: 1.8638e-05 - val_accuracy: 1.0000 - val_loss: 1.3397e-05\n",
            "Epoch 26/30\n",
            "\u001b[1m33/33\u001b[0m \u001b[32m━━━━━━━━━━━━━━━━━━━━\u001b[0m\u001b[37m\u001b[0m \u001b[1m0s\u001b[0m 5ms/step - accuracy: 1.0000 - loss: 1.8636e-05 - val_accuracy: 1.0000 - val_loss: 1.2870e-05\n",
            "Epoch 27/30\n",
            "\u001b[1m33/33\u001b[0m \u001b[32m━━━━━━━━━━━━━━━━━━━━\u001b[0m\u001b[37m\u001b[0m \u001b[1m0s\u001b[0m 4ms/step - accuracy: 1.0000 - loss: 1.4041e-05 - val_accuracy: 1.0000 - val_loss: 1.2408e-05\n",
            "Epoch 28/30\n",
            "\u001b[1m33/33\u001b[0m \u001b[32m━━━━━━━━━━━━━━━━━━━━\u001b[0m\u001b[37m\u001b[0m \u001b[1m0s\u001b[0m 4ms/step - accuracy: 1.0000 - loss: 1.5620e-05 - val_accuracy: 1.0000 - val_loss: 1.1932e-05\n",
            "Epoch 29/30\n",
            "\u001b[1m33/33\u001b[0m \u001b[32m━━━━━━━━━━━━━━━━━━━━\u001b[0m\u001b[37m\u001b[0m \u001b[1m0s\u001b[0m 4ms/step - accuracy: 1.0000 - loss: 1.9090e-05 - val_accuracy: 1.0000 - val_loss: 1.1473e-05\n",
            "Epoch 30/30\n",
            "\u001b[1m33/33\u001b[0m \u001b[32m━━━━━━━━━━━━━━━━━━━━\u001b[0m\u001b[37m\u001b[0m \u001b[1m0s\u001b[0m 4ms/step - accuracy: 1.0000 - loss: 1.3086e-05 - val_accuracy: 1.0000 - val_loss: 1.1080e-05\n"
          ]
        }
      ]
    },
    {
      "cell_type": "code",
      "source": [
        "# Evaluasi\n",
        "train_loss, train_acc = model.evaluate(X_train, y_train, verbose=0)\n",
        "test_loss, test_acc   = model.evaluate(X_test, y_test, verbose=0)\n",
        "\n",
        "print(f\"Akurasi Training : {train_acc*100:.2f}%\")\n",
        "print(f\"Akurasi Validasi : {test_acc*100:.2f}%\")"
      ],
      "metadata": {
        "colab": {
          "base_uri": "https://localhost:8080/"
        },
        "id": "aCN7dkWBVSkQ",
        "outputId": "ab48dcee-e2ec-4ac6-be60-ad70df571c0e"
      },
      "execution_count": 13,
      "outputs": [
        {
          "output_type": "stream",
          "name": "stdout",
          "text": [
            "Akurasi Training : 100.00%\n",
            "Akurasi Validasi : 100.00%\n"
          ]
        }
      ]
    }
  ]
}